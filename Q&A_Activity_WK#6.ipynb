{
 "cells": [
  {
   "cell_type": "code",
   "execution_count": 183,
   "id": "eb4899c5",
   "metadata": {},
   "outputs": [],
   "source": [
    "import pandas as pd\n",
    "import numpy as np\n",
    "import matplotlib.pyplot as plt\n",
    "import seaborn as sns"
   ]
  },
  {
   "cell_type": "code",
   "execution_count": 184,
   "id": "9f4685c5",
   "metadata": {},
   "outputs": [],
   "source": [
    "data=pd.read_excel(r'E:/Python programming/Wk#6/Dataset_w6.xlsx')"
   ]
  },
  {
   "cell_type": "code",
   "execution_count": 185,
   "id": "236f5c6a",
   "metadata": {},
   "outputs": [
    {
     "data": {
      "text/html": [
       "<div>\n",
       "<style scoped>\n",
       "    .dataframe tbody tr th:only-of-type {\n",
       "        vertical-align: middle;\n",
       "    }\n",
       "\n",
       "    .dataframe tbody tr th {\n",
       "        vertical-align: top;\n",
       "    }\n",
       "\n",
       "    .dataframe thead th {\n",
       "        text-align: right;\n",
       "    }\n",
       "</style>\n",
       "<table border=\"1\" class=\"dataframe\">\n",
       "  <thead>\n",
       "    <tr style=\"text-align: right;\">\n",
       "      <th></th>\n",
       "      <th>country</th>\n",
       "      <th>Region</th>\n",
       "      <th>Surface area (km2)</th>\n",
       "      <th>Population in thousands (2017)</th>\n",
       "      <th>GDP per capita (current US$)</th>\n",
       "      <th>Agricultural production index</th>\n",
       "      <th>International trade: Imports (million US$)</th>\n",
       "    </tr>\n",
       "  </thead>\n",
       "  <tbody>\n",
       "    <tr>\n",
       "      <th>0</th>\n",
       "      <td>Afghanistan</td>\n",
       "      <td>SouthernAsia</td>\n",
       "      <td>652864.0</td>\n",
       "      <td>35530.0</td>\n",
       "      <td>623.2</td>\n",
       "      <td>125.0</td>\n",
       "      <td>3568.0</td>\n",
       "    </tr>\n",
       "    <tr>\n",
       "      <th>1</th>\n",
       "      <td>Albania</td>\n",
       "      <td>SouthernEurope</td>\n",
       "      <td>28748.0</td>\n",
       "      <td>2930.0</td>\n",
       "      <td>3984.2</td>\n",
       "      <td>134.0</td>\n",
       "      <td>4669.0</td>\n",
       "    </tr>\n",
       "    <tr>\n",
       "      <th>2</th>\n",
       "      <td>Algeria</td>\n",
       "      <td>NorthernAfrica</td>\n",
       "      <td>2381741.0</td>\n",
       "      <td>41318.0</td>\n",
       "      <td>4154.1</td>\n",
       "      <td>160.0</td>\n",
       "      <td>47091.0</td>\n",
       "    </tr>\n",
       "    <tr>\n",
       "      <th>3</th>\n",
       "      <td>Angola</td>\n",
       "      <td>MiddleAfrica</td>\n",
       "      <td>1246700.0</td>\n",
       "      <td>29784.0</td>\n",
       "      <td>4714.1</td>\n",
       "      <td>175.0</td>\n",
       "      <td>8790.0</td>\n",
       "    </tr>\n",
       "    <tr>\n",
       "      <th>4</th>\n",
       "      <td>Antigua and Barbuda</td>\n",
       "      <td>Caribbean</td>\n",
       "      <td>442.0</td>\n",
       "      <td>102.0</td>\n",
       "      <td>14764.5</td>\n",
       "      <td>88.0</td>\n",
       "      <td>491.0</td>\n",
       "    </tr>\n",
       "    <tr>\n",
       "      <th>...</th>\n",
       "      <td>...</td>\n",
       "      <td>...</td>\n",
       "      <td>...</td>\n",
       "      <td>...</td>\n",
       "      <td>...</td>\n",
       "      <td>...</td>\n",
       "      <td>...</td>\n",
       "    </tr>\n",
       "    <tr>\n",
       "      <th>191</th>\n",
       "      <td>Venezuela (Bolivarian Republic of)</td>\n",
       "      <td>SouthAmerica</td>\n",
       "      <td>912050.0</td>\n",
       "      <td>31977.0</td>\n",
       "      <td>11068.9</td>\n",
       "      <td>118.0</td>\n",
       "      <td>16324.0</td>\n",
       "    </tr>\n",
       "    <tr>\n",
       "      <th>192</th>\n",
       "      <td>Viet Nam</td>\n",
       "      <td>South-easternAsia</td>\n",
       "      <td>330967.0</td>\n",
       "      <td>95541.0</td>\n",
       "      <td>2067.9</td>\n",
       "      <td>136.0</td>\n",
       "      <td>174111.0</td>\n",
       "    </tr>\n",
       "    <tr>\n",
       "      <th>193</th>\n",
       "      <td>Yemen</td>\n",
       "      <td>WesternAsia</td>\n",
       "      <td>527968.0</td>\n",
       "      <td>28250.0</td>\n",
       "      <td>1106.4</td>\n",
       "      <td>136.0</td>\n",
       "      <td>6861.0</td>\n",
       "    </tr>\n",
       "    <tr>\n",
       "      <th>194</th>\n",
       "      <td>Zambia</td>\n",
       "      <td>EasternAfrica</td>\n",
       "      <td>752612.0</td>\n",
       "      <td>17094.0</td>\n",
       "      <td>1311.1</td>\n",
       "      <td>179.0</td>\n",
       "      <td>7442.0</td>\n",
       "    </tr>\n",
       "    <tr>\n",
       "      <th>195</th>\n",
       "      <td>Zimbabwe</td>\n",
       "      <td>EasternAfrica</td>\n",
       "      <td>390757.0</td>\n",
       "      <td>16530.0</td>\n",
       "      <td>890.4</td>\n",
       "      <td>99.0</td>\n",
       "      <td>5212.0</td>\n",
       "    </tr>\n",
       "  </tbody>\n",
       "</table>\n",
       "<p>196 rows × 7 columns</p>\n",
       "</div>"
      ],
      "text/plain": [
       "                                country             Region  \\\n",
       "0                           Afghanistan       SouthernAsia   \n",
       "1                               Albania     SouthernEurope   \n",
       "2                               Algeria     NorthernAfrica   \n",
       "3                                Angola       MiddleAfrica   \n",
       "4                   Antigua and Barbuda          Caribbean   \n",
       "..                                  ...                ...   \n",
       "191  Venezuela (Bolivarian Republic of)       SouthAmerica   \n",
       "192                            Viet Nam  South-easternAsia   \n",
       "193                               Yemen        WesternAsia   \n",
       "194                              Zambia      EasternAfrica   \n",
       "195                            Zimbabwe      EasternAfrica   \n",
       "\n",
       "     Surface area (km2)  Population in thousands (2017)  \\\n",
       "0              652864.0                         35530.0   \n",
       "1               28748.0                          2930.0   \n",
       "2             2381741.0                         41318.0   \n",
       "3             1246700.0                         29784.0   \n",
       "4                 442.0                           102.0   \n",
       "..                  ...                             ...   \n",
       "191            912050.0                         31977.0   \n",
       "192            330967.0                         95541.0   \n",
       "193            527968.0                         28250.0   \n",
       "194            752612.0                         17094.0   \n",
       "195            390757.0                         16530.0   \n",
       "\n",
       "     GDP per capita (current US$)  Agricultural production index   \\\n",
       "0                           623.2                           125.0   \n",
       "1                          3984.2                           134.0   \n",
       "2                          4154.1                           160.0   \n",
       "3                          4714.1                           175.0   \n",
       "4                         14764.5                            88.0   \n",
       "..                            ...                             ...   \n",
       "191                       11068.9                           118.0   \n",
       "192                        2067.9                           136.0   \n",
       "193                        1106.4                           136.0   \n",
       "194                        1311.1                           179.0   \n",
       "195                         890.4                            99.0   \n",
       "\n",
       "     International trade: Imports (million US$)  \n",
       "0                                        3568.0  \n",
       "1                                        4669.0  \n",
       "2                                       47091.0  \n",
       "3                                        8790.0  \n",
       "4                                         491.0  \n",
       "..                                          ...  \n",
       "191                                     16324.0  \n",
       "192                                    174111.0  \n",
       "193                                      6861.0  \n",
       "194                                      7442.0  \n",
       "195                                      5212.0  \n",
       "\n",
       "[196 rows x 7 columns]"
      ]
     },
     "execution_count": 185,
     "metadata": {},
     "output_type": "execute_result"
    }
   ],
   "source": [
    "data"
   ]
  },
  {
   "cell_type": "markdown",
   "id": "ac8414fa",
   "metadata": {},
   "source": [
    "# 1-Find out how many countries are there in the dataset."
   ]
  },
  {
   "cell_type": "code",
   "execution_count": 186,
   "id": "f28c36de",
   "metadata": {},
   "outputs": [
    {
     "name": "stdout",
     "output_type": "stream",
     "text": [
      "Total number of countries in the Dataset= 196\n"
     ]
    }
   ],
   "source": [
    "data1=data['country'].value_counts().sum()\n",
    "print('Total number of countries in the Dataset=', data1)"
   ]
  },
  {
   "cell_type": "markdown",
   "id": "c1473878",
   "metadata": {},
   "source": [
    "# 2-Examine the data by using visualizations"
   ]
  },
  {
   "cell_type": "code",
   "execution_count": 187,
   "id": "6ed5819b",
   "metadata": {},
   "outputs": [],
   "source": [
    "data2=data.rename(columns = {'Population in thousands (2017)':'pop', 'GDP per capita (current US$)':'GDP','International trade: Imports (million US$)':'import'})"
   ]
  },
  {
   "cell_type": "code",
   "execution_count": 188,
   "id": "c5452041",
   "metadata": {},
   "outputs": [
    {
     "data": {
      "text/html": [
       "<div>\n",
       "<style scoped>\n",
       "    .dataframe tbody tr th:only-of-type {\n",
       "        vertical-align: middle;\n",
       "    }\n",
       "\n",
       "    .dataframe tbody tr th {\n",
       "        vertical-align: top;\n",
       "    }\n",
       "\n",
       "    .dataframe thead th {\n",
       "        text-align: right;\n",
       "    }\n",
       "</style>\n",
       "<table border=\"1\" class=\"dataframe\">\n",
       "  <thead>\n",
       "    <tr style=\"text-align: right;\">\n",
       "      <th></th>\n",
       "      <th>country</th>\n",
       "      <th>Region</th>\n",
       "      <th>Surface area (km2)</th>\n",
       "      <th>pop</th>\n",
       "      <th>GDP</th>\n",
       "      <th>Agricultural production index</th>\n",
       "      <th>import</th>\n",
       "    </tr>\n",
       "  </thead>\n",
       "  <tbody>\n",
       "    <tr>\n",
       "      <th>0</th>\n",
       "      <td>Afghanistan</td>\n",
       "      <td>SouthernAsia</td>\n",
       "      <td>652864.0</td>\n",
       "      <td>35530.0</td>\n",
       "      <td>623.2</td>\n",
       "      <td>125.0</td>\n",
       "      <td>3568.0</td>\n",
       "    </tr>\n",
       "    <tr>\n",
       "      <th>1</th>\n",
       "      <td>Albania</td>\n",
       "      <td>SouthernEurope</td>\n",
       "      <td>28748.0</td>\n",
       "      <td>2930.0</td>\n",
       "      <td>3984.2</td>\n",
       "      <td>134.0</td>\n",
       "      <td>4669.0</td>\n",
       "    </tr>\n",
       "    <tr>\n",
       "      <th>2</th>\n",
       "      <td>Algeria</td>\n",
       "      <td>NorthernAfrica</td>\n",
       "      <td>2381741.0</td>\n",
       "      <td>41318.0</td>\n",
       "      <td>4154.1</td>\n",
       "      <td>160.0</td>\n",
       "      <td>47091.0</td>\n",
       "    </tr>\n",
       "    <tr>\n",
       "      <th>3</th>\n",
       "      <td>Angola</td>\n",
       "      <td>MiddleAfrica</td>\n",
       "      <td>1246700.0</td>\n",
       "      <td>29784.0</td>\n",
       "      <td>4714.1</td>\n",
       "      <td>175.0</td>\n",
       "      <td>8790.0</td>\n",
       "    </tr>\n",
       "    <tr>\n",
       "      <th>4</th>\n",
       "      <td>Antigua and Barbuda</td>\n",
       "      <td>Caribbean</td>\n",
       "      <td>442.0</td>\n",
       "      <td>102.0</td>\n",
       "      <td>14764.5</td>\n",
       "      <td>88.0</td>\n",
       "      <td>491.0</td>\n",
       "    </tr>\n",
       "    <tr>\n",
       "      <th>...</th>\n",
       "      <td>...</td>\n",
       "      <td>...</td>\n",
       "      <td>...</td>\n",
       "      <td>...</td>\n",
       "      <td>...</td>\n",
       "      <td>...</td>\n",
       "      <td>...</td>\n",
       "    </tr>\n",
       "    <tr>\n",
       "      <th>191</th>\n",
       "      <td>Venezuela (Bolivarian Republic of)</td>\n",
       "      <td>SouthAmerica</td>\n",
       "      <td>912050.0</td>\n",
       "      <td>31977.0</td>\n",
       "      <td>11068.9</td>\n",
       "      <td>118.0</td>\n",
       "      <td>16324.0</td>\n",
       "    </tr>\n",
       "    <tr>\n",
       "      <th>192</th>\n",
       "      <td>Viet Nam</td>\n",
       "      <td>South-easternAsia</td>\n",
       "      <td>330967.0</td>\n",
       "      <td>95541.0</td>\n",
       "      <td>2067.9</td>\n",
       "      <td>136.0</td>\n",
       "      <td>174111.0</td>\n",
       "    </tr>\n",
       "    <tr>\n",
       "      <th>193</th>\n",
       "      <td>Yemen</td>\n",
       "      <td>WesternAsia</td>\n",
       "      <td>527968.0</td>\n",
       "      <td>28250.0</td>\n",
       "      <td>1106.4</td>\n",
       "      <td>136.0</td>\n",
       "      <td>6861.0</td>\n",
       "    </tr>\n",
       "    <tr>\n",
       "      <th>194</th>\n",
       "      <td>Zambia</td>\n",
       "      <td>EasternAfrica</td>\n",
       "      <td>752612.0</td>\n",
       "      <td>17094.0</td>\n",
       "      <td>1311.1</td>\n",
       "      <td>179.0</td>\n",
       "      <td>7442.0</td>\n",
       "    </tr>\n",
       "    <tr>\n",
       "      <th>195</th>\n",
       "      <td>Zimbabwe</td>\n",
       "      <td>EasternAfrica</td>\n",
       "      <td>390757.0</td>\n",
       "      <td>16530.0</td>\n",
       "      <td>890.4</td>\n",
       "      <td>99.0</td>\n",
       "      <td>5212.0</td>\n",
       "    </tr>\n",
       "  </tbody>\n",
       "</table>\n",
       "<p>196 rows × 7 columns</p>\n",
       "</div>"
      ],
      "text/plain": [
       "                                country             Region  \\\n",
       "0                           Afghanistan       SouthernAsia   \n",
       "1                               Albania     SouthernEurope   \n",
       "2                               Algeria     NorthernAfrica   \n",
       "3                                Angola       MiddleAfrica   \n",
       "4                   Antigua and Barbuda          Caribbean   \n",
       "..                                  ...                ...   \n",
       "191  Venezuela (Bolivarian Republic of)       SouthAmerica   \n",
       "192                            Viet Nam  South-easternAsia   \n",
       "193                               Yemen        WesternAsia   \n",
       "194                              Zambia      EasternAfrica   \n",
       "195                            Zimbabwe      EasternAfrica   \n",
       "\n",
       "     Surface area (km2)      pop      GDP  Agricultural production index   \\\n",
       "0              652864.0  35530.0    623.2                           125.0   \n",
       "1               28748.0   2930.0   3984.2                           134.0   \n",
       "2             2381741.0  41318.0   4154.1                           160.0   \n",
       "3             1246700.0  29784.0   4714.1                           175.0   \n",
       "4                 442.0    102.0  14764.5                            88.0   \n",
       "..                  ...      ...      ...                             ...   \n",
       "191            912050.0  31977.0  11068.9                           118.0   \n",
       "192            330967.0  95541.0   2067.9                           136.0   \n",
       "193            527968.0  28250.0   1106.4                           136.0   \n",
       "194            752612.0  17094.0   1311.1                           179.0   \n",
       "195            390757.0  16530.0    890.4                            99.0   \n",
       "\n",
       "       import  \n",
       "0      3568.0  \n",
       "1      4669.0  \n",
       "2     47091.0  \n",
       "3      8790.0  \n",
       "4       491.0  \n",
       "..        ...  \n",
       "191   16324.0  \n",
       "192  174111.0  \n",
       "193    6861.0  \n",
       "194    7442.0  \n",
       "195    5212.0  \n",
       "\n",
       "[196 rows x 7 columns]"
      ]
     },
     "execution_count": 188,
     "metadata": {},
     "output_type": "execute_result"
    }
   ],
   "source": [
    "data2"
   ]
  },
  {
   "cell_type": "code",
   "execution_count": 189,
   "id": "f2617155",
   "metadata": {},
   "outputs": [
    {
     "data": {
      "text/plain": [
       "(array([0, 1, 2, 3, 4, 5, 6, 7, 8, 9]),\n",
       " [Text(0, 0, 'China'),\n",
       "  Text(1, 0, 'India'),\n",
       "  Text(2, 0, 'United States of America'),\n",
       "  Text(3, 0, 'Indonesia'),\n",
       "  Text(4, 0, 'Brazil'),\n",
       "  Text(5, 0, 'Pakistan'),\n",
       "  Text(6, 0, 'Nigeria'),\n",
       "  Text(7, 0, 'Bangladesh'),\n",
       "  Text(8, 0, 'Russian Federation'),\n",
       "  Text(9, 0, 'Mexico')])"
      ]
     },
     "execution_count": 189,
     "metadata": {},
     "output_type": "execute_result"
    },
    {
     "data": {
      "image/png": "[encoded data removed]",
      "text/plain": [
       "<Figure size 576x396 with 1 Axes>"
      ]
     },
     "metadata": {},
     "output_type": "display_data"
    }
   ],
   "source": [
    "top_10_population=data2[['country','pop']].sort_values('pop',ascending=False).head(10)\n",
    "plt1=sns.barplot(x='country',y='pop',data=top_10_population)\n",
    "plt.xlabel('country',fontsize=15)\n",
    "plt.ylabel('population',fontsize=15)\n",
    "plt.xticks(rotation=90)"
   ]
  },
  {
   "cell_type": "code",
   "execution_count": 190,
   "id": "d3ecd2ea",
   "metadata": {},
   "outputs": [
    {
     "data": {
      "text/plain": [
       "(array([0, 1, 2, 3, 4, 5, 6, 7, 8, 9]),\n",
       " [Text(0, 0, 'Luxembourg'),\n",
       "  Text(1, 0, 'Bermuda'),\n",
       "  Text(2, 0, 'Switzerland'),\n",
       "  Text(3, 0, 'China, Macao SAR'),\n",
       "  Text(4, 0, 'Norway'),\n",
       "  Text(5, 0, 'Qatar'),\n",
       "  Text(6, 0, 'Cayman Islands'),\n",
       "  Text(7, 0, 'Ireland'),\n",
       "  Text(8, 0, 'United States of America'),\n",
       "  Text(9, 0, 'Denmark')])"
      ]
     },
     "execution_count": 190,
     "metadata": {},
     "output_type": "execute_result"
    },
    {
     "data": {
      "image/png": "[encoded data removed]",
      "text/plain": [
       "<Figure size 576x396 with 1 Axes>"
      ]
     },
     "metadata": {},
     "output_type": "display_data"
    }
   ],
   "source": [
    "top_10_population1=data2[['country','GDP']].sort_values('GDP',ascending=False).head(10)\n",
    "plt1=sns.barplot(x='country',y='GDP',data=top_10_population1)\n",
    "plt.xlabel('country',fontsize=15)\n",
    "plt.ylabel('GDP',fontsize=15)\n",
    "plt.xticks(rotation=90)"
   ]
  },
  {
   "cell_type": "code",
   "execution_count": 191,
   "id": "b3c49afc",
   "metadata": {},
   "outputs": [
    {
     "data": {
      "text/plain": [
       "([0, 1, 2, 3, 4, 5, 6, 7, 8, 9],\n",
       " [Text(0, 0, ''),\n",
       "  Text(0, 0, ''),\n",
       "  Text(0, 0, ''),\n",
       "  Text(0, 0, ''),\n",
       "  Text(0, 0, ''),\n",
       "  Text(0, 0, ''),\n",
       "  Text(0, 0, ''),\n",
       "  Text(0, 0, ''),\n",
       "  Text(0, 0, ''),\n",
       "  Text(0, 0, '')])"
      ]
     },
     "execution_count": 191,
     "metadata": {},
     "output_type": "execute_result"
    },
    {
     "data": {
      "image/png": "[encoded data removed]",
      "text/plain": [
       "<Figure size 576x396 with 1 Axes>"
      ]
     },
     "metadata": {},
     "output_type": "display_data"
    }
   ],
   "source": [
    "top_10_population2=data2[['country','import']].sort_values('import',ascending=False).head(10)\n",
    "sns.lineplot(x=\"country\", y=\"import\", data=top_10_population2)\n",
    "plt.xlabel('country',fontsize=15)\n",
    "plt.ylabel('import',fontsize=15)\n",
    "plt.xticks(rotation=90)\n"
   ]
  },
  {
   "cell_type": "markdown",
   "id": "f4edbff6",
   "metadata": {},
   "source": [
    "# 3-Find out how many countries with respect to the region are available in the dataset\n"
   ]
  },
  {
   "cell_type": "code",
   "execution_count": 192,
   "id": "5c2be489",
   "metadata": {},
   "outputs": [],
   "source": [
    "country_region=data.groupby('Region')"
   ]
  },
  {
   "cell_type": "code",
   "execution_count": 193,
   "id": "7644096c",
   "metadata": {},
   "outputs": [
    {
     "data": {
      "text/plain": [
       "Region\n",
       "Caribbean            16\n",
       "CentralAmerica        8\n",
       "CentralAsia           5\n",
       "EasternAfrica        17\n",
       "EasternAsia           7\n",
       "EasternEurope        10\n",
       "Melanesia             5\n",
       "Micronesia            4\n",
       "MiddleAfrica          9\n",
       "NorthernAfrica        5\n",
       "NorthernAmerica       4\n",
       "NorthernEurope       10\n",
       "Oceania               2\n",
       "Polynesia             5\n",
       "South-easternAsia    11\n",
       "SouthAmerica         12\n",
       "SouthernAfrica        5\n",
       "SouthernAsia          9\n",
       "SouthernEurope       12\n",
       "WesternAfrica        15\n",
       "WesternAsia          18\n",
       "WesternEurope         7\n",
       "Name: country, dtype: int64"
      ]
     },
     "execution_count": 193,
     "metadata": {},
     "output_type": "execute_result"
    }
   ],
   "source": [
    "country_region['country'].count()"
   ]
  },
  {
   "cell_type": "markdown",
   "id": "df270d12",
   "metadata": {},
   "source": [
    "# 4-On average which region has the highest"
   ]
  },
  {
   "cell_type": "markdown",
   "id": "3eda872c",
   "metadata": {},
   "source": [
    "# 4a- GDP per capita (current US$)"
   ]
  },
  {
   "cell_type": "code",
   "execution_count": 218,
   "id": "b2cb3822",
   "metadata": {},
   "outputs": [],
   "source": [
    "country_region1=data2.groupby('Region')['GDP'].mean()"
   ]
  },
  {
   "cell_type": "code",
   "execution_count": 216,
   "id": "f6a7f6ec",
   "metadata": {},
   "outputs": [
    {
     "name": "stdout",
     "output_type": "stream",
     "text": [
      "Region\n",
      "Caribbean            15135.562500\n",
      "CentralAmerica        6348.137500\n",
      "CentralAsia           4329.880000\n",
      "EasternAfrica         2088.852941\n",
      "EasternAsia          27967.614286\n",
      "EasternEurope         9292.490000\n",
      "Melanesia             9261.960000\n",
      "Micronesia            5008.300000\n",
      "MiddleAfrica          3928.833333\n",
      "NorthernAfrica        3934.960000\n",
      "NorthernAmerica      57659.000000\n",
      "NorthernEurope       42098.220000\n",
      "Oceania              44823.250000\n",
      "Polynesia             8686.520000\n",
      "South-easternAsia    10299.027273\n",
      "SouthAmerica          8499.775000\n",
      "SouthernAfrica        4191.900000\n",
      "SouthernAsia          2968.400000\n",
      "SouthernEurope       14462.741667\n",
      "WesternAfrica         1013.140000\n",
      "WesternAsia          17013.938889\n",
      "WesternEurope        55387.128571\n",
      "Name: GDP per capita (current US$), dtype: float64\n",
      "On average Region with highest GDP=\n",
      "NorthernAmerica 57659.0\n"
     ]
    }
   ],
   "source": [
    "print(country_region1)\n",
    "print('On average Region with highest GDP=')\n",
    "print(country_region1.idxmax(),country_region1.max())"
   ]
  },
  {
   "cell_type": "markdown",
   "id": "48ef33a4",
   "metadata": {},
   "source": [
    "# b-International trade: Imports (million US$)"
   ]
  },
  {
   "cell_type": "code",
   "execution_count": 220,
   "id": "c1468fb7",
   "metadata": {},
   "outputs": [
    {
     "name": "stdout",
     "output_type": "stream",
     "text": [
      "Region\n",
      "Caribbean              3057.312500\n",
      "CentralAmerica        57031.500000\n",
      "CentralAsia           12063.400000\n",
      "EasternAfrica          4726.176471\n",
      "EasternAsia          451995.000000\n",
      "EasternEurope         85243.900000\n",
      "Melanesia              2896.400000\n",
      "Micronesia               99.000000\n",
      "MiddleAfrica           4381.222222\n",
      "NorthernAfrica        35034.400000\n",
      "NorthernAmerica      663552.250000\n",
      "NorthernEurope       113407.200000\n",
      "Oceania              112914.500000\n",
      "Polynesia               432.000000\n",
      "South-easternAsia     98324.636364\n",
      "SouthAmerica          32885.666667\n",
      "SouthernAfrica        18005.600000\n",
      "SouthernAsia          58199.333333\n",
      "SouthernEurope        76666.666667\n",
      "WesternAfrica          4898.333333\n",
      "WesternAsia           46025.555556\n",
      "WesternEurope        407498.428571\n",
      "Name: import, dtype: float64\n",
      "On average Region with International trade= \n",
      "NorthernAmerica 663552.25\n"
     ]
    }
   ],
   "source": [
    "country_region2=data2.groupby('Region')['import'].mean()\n",
    "print(country_region2)\n",
    "print('On average Region with International trade= ')\n",
    "print(country_region2.idxmax(),country_region2.max())"
   ]
  },
  {
   "cell_type": "markdown",
   "id": "ecc1f66c",
   "metadata": {},
   "source": [
    "# 5- Find out which region has more consistent with respect to GDP per capita (current US$)\n"
   ]
  },
  {
   "cell_type": "code",
   "execution_count": 226,
   "id": "d9e2ad7d",
   "metadata": {},
   "outputs": [
    {
     "name": "stdout",
     "output_type": "stream",
     "text": [
      "Region\n",
      "Caribbean            14579.371326\n",
      "CentralAmerica        4180.440883\n",
      "CentralAsia           4152.215490\n",
      "EasternAfrica         3716.131770\n",
      "EasternAsia          27485.120923\n",
      "EasternEurope         5415.488739\n",
      "Melanesia            13855.842686\n",
      "Micronesia            4820.669694\n",
      "MiddleAfrica          5274.846281\n",
      "NorthernAfrica         974.706575\n",
      "NorthernAmerica      25749.619445\n",
      "NorthernEurope       20671.030185\n",
      "Oceania               9233.329638\n",
      "Polynesia             6956.250286\n",
      "South-easternAsia    16311.810656\n",
      "SouthAmerica          4273.707394\n",
      "SouthernAfrica        2177.551120\n",
      "SouthernAsia          2855.708179\n",
      "SouthernEurope        9541.703216\n",
      "WesternAfrica          815.095399\n",
      "WesternAsia          18812.151459\n",
      "WesternEurope        24770.467728\n",
      "Name: GDP, dtype: float64\n",
      "Region with less standard deviation (highly consistant) with respect to GDP per capita = \n",
      "WesternAfrica 815.0953991492564\n"
     ]
    }
   ],
   "source": [
    "country_region3=data2.groupby('Region')['GDP'].std()\n",
    "print(country_region3)\n",
    "print('Region with less standard deviation (highly consistant) with respect to GDP per capita = ')\n",
    "print(country_region3.idxmin(),country_region3.min())"
   ]
  },
  {
   "cell_type": "code",
   "execution_count": null,
   "id": "7a60b131",
   "metadata": {},
   "outputs": [],
   "source": []
  }
 ],
 "metadata": {
  "kernelspec": {
   "display_name": "Python 3 (ipykernel)",
   "language": "python",
   "name": "python3"
  },
  "language_info": {
   "codemirror_mode": {
    "name": "ipython",
    "version": 3
   },
   "file_extension": ".py",
   "mimetype": "text/x-python",
   "name": "python",
   "nbconvert_exporter": "python",
   "pygments_lexer": "ipython3",
   "version": "3.9.7"
  }
 },
 "nbformat": 4,
 "nbformat_minor": 5
}
